{
 "cells": [
  {
   "cell_type": "code",
   "execution_count": 2,
   "id": "13dede28",
   "metadata": {},
   "outputs": [],
   "source": [
    "### Prerequsits which should be ment before running below cells\n",
    "#Setup Conda  (base env) using Anaconda Installer\n",
    "#Setup AiiDA using pip inistall (refer documentation for command)"
   ]
  },
  {
   "cell_type": "code",
   "execution_count": 5,
   "id": "44ff398e",
   "metadata": {},
   "outputs": [
    {
     "data": {
      "text/plain": [
       "Profile<uuid='bfaa8f55eb6f4f3ba828d0305ee1caf1' name='me'>"
      ]
     },
     "execution_count": 5,
     "metadata": {},
     "output_type": "execute_result"
    }
   ],
   "source": [
    "#importing initial required modules\n",
    "from aiida import load_profile\n",
    "from aiida.orm import QueryBuilder\n",
    "from aiida.orm import load_node\n",
    "from aiida.orm import Node, Group, Data, Dict, CifData\n",
    "import pandas as pd\n",
    "load_profile()"
   ]
  },
  {
   "cell_type": "code",
   "execution_count": 7,
   "id": "0c326cc1",
   "metadata": {},
   "outputs": [],
   "source": [
    "###Sample code to create a node in AiiDA\n",
    "# from aiida import orm\n",
    "\n",
    "# node = orm.Int(69)\n",
    "# node"
   ]
  },
  {
   "cell_type": "code",
   "execution_count": 8,
   "id": "05c9fc46",
   "metadata": {},
   "outputs": [],
   "source": [
    "###Sample code to perform math operation on 2 AiiDA data coloumns and save it\n",
    "# from aiida import engine\n",
    "\n",
    "# @engine.calcfunction\n",
    "# def multiply(x, y):\n",
    "#     return x*y"
   ]
  },
  {
   "cell_type": "code",
   "execution_count": 9,
   "id": "f751ea12",
   "metadata": {},
   "outputs": [],
   "source": [
    "###Loading variable in AiiDA (can used either PK or UUID)\n",
    "# x = orm.load_node(pk=1)"
   ]
  },
  {
   "cell_type": "code",
   "execution_count": null,
   "id": "3a569ff4",
   "metadata": {},
   "outputs": [],
   "source": []
  }
 ],
 "metadata": {
  "kernelspec": {
   "display_name": "Python 3 (ipykernel)",
   "language": "python",
   "name": "python3"
  },
  "language_info": {
   "codemirror_mode": {
    "name": "ipython",
    "version": 3
   },
   "file_extension": ".py",
   "mimetype": "text/x-python",
   "name": "python",
   "nbconvert_exporter": "python",
   "pygments_lexer": "ipython3",
   "version": "3.11.5"
  }
 },
 "nbformat": 4,
 "nbformat_minor": 5
}
